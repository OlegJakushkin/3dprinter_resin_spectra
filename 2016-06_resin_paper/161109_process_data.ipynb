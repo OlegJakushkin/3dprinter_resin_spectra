{
 "cells": [
  {
   "cell_type": "markdown",
   "metadata": {},
   "source": [
    "# Imports and initial basic data"
   ]
  },
  {
   "cell_type": "code",
   "execution_count": 1,
   "metadata": {
    "collapsed": true
   },
   "outputs": [],
   "source": [
    "import numpy as np\n",
    "import matplotlib.pyplot as plt\n",
    "%matplotlib inline\n",
    "import os\n",
    "import ast"
   ]
  },
  {
   "cell_type": "code",
   "execution_count": 2,
   "metadata": {
    "collapsed": false
   },
   "outputs": [],
   "source": [
    "from absorbance import *"
   ]
  },
  {
   "cell_type": "code",
   "execution_count": 3,
   "metadata": {
    "collapsed": true
   },
   "outputs": [],
   "source": [
    "raw_data_directory = 'raw_data'\n",
    "processed_dark_data_directory = 'processed_data'\n",
    "processed_absorbance_data_directory = 'processed_data'\n",
    "\n",
    "start_index = 50\n",
    "end_index = 998\n",
    "\n",
    "integration_time_us = 10000\n",
    "\n",
    "thickness_um = 93\n",
    "\n",
    "params_for_dark_data = { 'start_index' : start_index,\n",
    "                         'end_index' : end_index,\n",
    "                         'integration_time_us' : integration_time_us\n",
    "                       }"
   ]
  },
  {
   "cell_type": "code",
   "execution_count": 4,
   "metadata": {
    "collapsed": false
   },
   "outputs": [
    {
     "data": {
      "text/plain": [
       "{'end_index': 998, 'integration_time_us': 10000, 'start_index': 50}"
      ]
     },
     "execution_count": 4,
     "metadata": {},
     "output_type": "execute_result"
    }
   ],
   "source": [
    "params_for_dark_data"
   ]
  },
  {
   "cell_type": "code",
   "execution_count": 5,
   "metadata": {
    "collapsed": false
   },
   "outputs": [
    {
     "data": {
      "text/plain": [
       "50"
      ]
     },
     "execution_count": 5,
     "metadata": {},
     "output_type": "execute_result"
    }
   ],
   "source": [
    "params_for_dark_data['start_index']"
   ]
  },
  {
   "cell_type": "markdown",
   "metadata": {},
   "source": [
    "# Process Dark Data"
   ]
  },
  {
   "cell_type": "code",
   "execution_count": 6,
   "metadata": {
    "collapsed": false
   },
   "outputs": [
    {
     "data": {
      "text/plain": [
       "['dark_2015-06-27']"
      ]
     },
     "execution_count": 6,
     "metadata": {},
     "output_type": "execute_result"
    }
   ],
   "source": [
    "list_of_dark_data = get_list_of_dark_data(raw_data_directory)\n",
    "list_of_dark_data"
   ]
  },
  {
   "cell_type": "code",
   "execution_count": 7,
   "metadata": {
    "collapsed": false
   },
   "outputs": [
    {
     "name": "stdout",
     "output_type": "stream",
     "text": [
      "processed_data/dark_2015-06-27.csv\n"
     ]
    }
   ],
   "source": [
    "# Process dark data and save to file\n",
    "dark_data_file_name = process_and_save_dark_data(raw_data_directory, list_of_dark_data[0], \n",
    "                                                 processed_dark_data_directory, params_for_dark_data)\n",
    "print(dark_data_file_name)"
   ]
  },
  {
   "cell_type": "code",
   "execution_count": 8,
   "metadata": {
    "collapsed": false
   },
   "outputs": [
    {
     "name": "stdout",
     "output_type": "stream",
     "text": [
      "{'integration_time_us': 10000, 'end_index': 998, 'start_index': 50}\n",
      "(948, 3)\n",
      "2395.02\n",
      "2396.97\n"
     ]
    }
   ],
   "source": [
    "# Read dark data from file\n",
    "comment, dark_data = get_processed_data_from_file(dark_data_file_name)\n",
    "\n",
    "# See what we got\n",
    "print(comment)\n",
    "print(dark_data.shape)\n",
    "print(min(dark_data[:,1]))\n",
    "print(max(dark_data[:,1]))"
   ]
  },
  {
   "cell_type": "code",
   "execution_count": 9,
   "metadata": {
    "collapsed": false
   },
   "outputs": [
    {
     "data": {
      "text/plain": [
       "{'end_index': 998, 'integration_time_us': 10000, 'start_index': 50}"
      ]
     },
     "execution_count": 9,
     "metadata": {},
     "output_type": "execute_result"
    }
   ],
   "source": [
    "dark_data_params = ast.literal_eval(comment)\n",
    "dark_data_params"
   ]
  },
  {
   "cell_type": "code",
   "execution_count": 10,
   "metadata": {
    "collapsed": false
   },
   "outputs": [
    {
     "data": {
      "text/plain": [
       "<matplotlib.text.Text at 0x111accd68>"
      ]
     },
     "execution_count": 10,
     "metadata": {},
     "output_type": "execute_result"
    },
    {
     "data": {
      "image/png": "[encoded data removed]",
      "text/plain": [
       "<matplotlib.figure.Figure at 0x111a74c50>"
      ]
     },
     "metadata": {},
     "output_type": "display_data"
    }
   ],
   "source": [
    "fig, ax = plt.subplots()\n",
    "ax.plot(dark_data[:, 0], dark_data[:, 1])\n",
    "ax.set_xlabel('Wavelength (nm)')\n",
    "ax.set_ylabel('Dark signal (counts)')\n",
    "ax.set_ylim(min(dark_data[:,1])-0.5, max(dark_data[:,1])+0.5)\n",
    "ax.get_yaxis().get_major_formatter().set_useOffset(False)\n",
    "ax.set_title('Dark Signal, Integration time: 10,000 $\\mu$s')"
   ]
  },
  {
   "cell_type": "markdown",
   "metadata": {},
   "source": [
    "The dark values are somewhat high, but there is very little change in the data as a function of wavelength--only 2 counts out of ~2400."
   ]
  },
  {
   "cell_type": "markdown",
   "metadata": {},
   "source": [
    "# Process Raw Spectrum Data Files"
   ]
  },
  {
   "cell_type": "code",
   "execution_count": 12,
   "metadata": {
    "collapsed": true
   },
   "outputs": [],
   "source": [
    "params_for_dark_data['dark_data_file'] = dark_data_file_name"
   ]
  },
  {
   "cell_type": "code",
   "execution_count": 13,
   "metadata": {
    "collapsed": false
   },
   "outputs": [
    {
     "data": {
      "text/plain": [
       "['fslclear_2015-07-30',\n",
       " 'irgacure819_2015-06-30',\n",
       " 'martius_05_2015-06-30',\n",
       " 'plasclear_2015-06-27',\n",
       " 'pr48_2015-07-27',\n",
       " 'pr48noA_2015-07-30',\n",
       " 'pr48noPA_2015-07-30',\n",
       " 'sudanI_015_2015-06-27',\n",
       " 'sudanI_01_2015-06-27',\n",
       " 'sudanI_02_2015-06-27',\n",
       " 'sudanI_04_2015-06-27']"
      ]
     },
     "execution_count": 13,
     "metadata": {},
     "output_type": "execute_result"
    }
   ],
   "source": [
    "list_of_materials = get_list_of_materials(raw_data_directory)\n",
    "list_of_materials"
   ]
  },
  {
   "cell_type": "code",
   "execution_count": 13,
   "metadata": {
    "collapsed": false
   },
   "outputs": [
    {
     "data": {
      "text/plain": [
       "array([[  2.31083716e+02,   6.43500018e-02],\n",
       "       [  2.31887754e+02,   6.92254030e-02],\n",
       "       [  2.32691721e+02,   6.63456143e-02],\n",
       "       ..., \n",
       "       [  9.58400983e+02,   8.82407677e-03],\n",
       "       [  9.59135495e+02,   7.62628110e-03],\n",
       "       [  9.59869931e+02,   1.00558367e-02]])"
      ]
     },
     "execution_count": 13,
     "metadata": {},
     "output_type": "execute_result"
    }
   ],
   "source": [
    "material_index = 10\n",
    "datadirectory = makename(raw_data_directory,list_of_materials[material_index])\n",
    "data = process_data_to_get_absorbance(datadirectory, dark_data, \n",
    "                                      dark_data_params['start_index'], \n",
    "                                      dark_data_params['end_index'])\n",
    "data"
   ]
  },
  {
   "cell_type": "code",
   "execution_count": 14,
   "metadata": {
    "collapsed": true
   },
   "outputs": [],
   "source": [
    "temp_name = makename(processed_absorbance_data_directory, list_of_materials[material_index]+'.csv')\n",
    "np.savetxt(temp_name, data, delimiter=',', header=str(params_for_dark_data))"
   ]
  },
  {
   "cell_type": "code",
   "execution_count": 15,
   "metadata": {
    "collapsed": false
   },
   "outputs": [
    {
     "data": {
      "text/plain": [
       "<matplotlib.text.Text at 0x115833e10>"
      ]
     },
     "execution_count": 15,
     "metadata": {},
     "output_type": "execute_result"
    },
    {
     "data": {
      "image/png": "[encoded data removed]",
      "text/plain": [
       "<matplotlib.figure.Figure at 0x114faae48>"
      ]
     },
     "metadata": {},
     "output_type": "display_data"
    }
   ],
   "source": [
    "fig, ax = plt.subplots()\n",
    "ax.plot(data[:,0], data[:,1])\n",
    "#ax.set_ylim(-0.003,0.003)\n",
    "ax.set_xlabel('Wavelength (nm)')\n",
    "ax.set_ylabel('Absorbance')\n",
    "ax.set_title(list_of_materials[material_index])"
   ]
  },
  {
   "cell_type": "markdown",
   "metadata": {},
   "source": [
    "1. Get dark data\n",
    "1. Add dark data filename to dict\n",
    "1. Get list of raw data directories\n",
    "1. Loop over raw data directories:\n",
    "    1. Get and process data\n",
    "    1. Make filename with correct path\n",
    "    1. Write dict and data to file"
   ]
  },
  {
   "cell_type": "markdown",
   "metadata": {},
   "source": [
    "### Get dark data"
   ]
  },
  {
   "cell_type": "code",
   "execution_count": 14,
   "metadata": {
    "collapsed": false
   },
   "outputs": [
    {
     "data": {
      "text/plain": [
       "['dark_2015-06-27.csv']"
      ]
     },
     "execution_count": 14,
     "metadata": {},
     "output_type": "execute_result"
    }
   ],
   "source": [
    "list_of_dark_data = get_list_of_processed_dark_data_files(processed_dark_data_directory)\n",
    "list_of_dark_data"
   ]
  },
  {
   "cell_type": "code",
   "execution_count": 15,
   "metadata": {
    "collapsed": false
   },
   "outputs": [
    {
     "name": "stdout",
     "output_type": "stream",
     "text": [
      "dark_2015-06-27.csv processed_data/dark_2015-06-27.csv\n"
     ]
    }
   ],
   "source": [
    "dark_data_filename = list_of_dark_data[0]\n",
    "dark_data_path_and_name = makename(processed_dark_data_directory, dark_data_filename)\n",
    "print(dark_data_filename, dark_data_path_and_name)"
   ]
  },
  {
   "cell_type": "code",
   "execution_count": 22,
   "metadata": {
    "collapsed": false
   },
   "outputs": [],
   "source": [
    "dark_info, dark_data = get_processed_data_from_file(dark_data_path_and_name)"
   ]
  },
  {
   "cell_type": "markdown",
   "metadata": {},
   "source": [
    "### Add dark file name to dict containing relevant parameters"
   ]
  },
  {
   "cell_type": "code",
   "execution_count": 23,
   "metadata": {
    "collapsed": false
   },
   "outputs": [
    {
     "data": {
      "text/plain": [
       "{'dark_data_file': 'dark_2015-06-27.csv',\n",
       " 'end_index': 998,\n",
       " 'integration_time_us': 10000,\n",
       " 'start_index': 50}"
      ]
     },
     "execution_count": 23,
     "metadata": {},
     "output_type": "execute_result"
    }
   ],
   "source": [
    "info = ast.literal_eval(dark_info)\n",
    "info['dark_data_file'] = dark_data_filename\n",
    "info"
   ]
  },
  {
   "cell_type": "markdown",
   "metadata": {},
   "source": [
    "### Get list of resins"
   ]
  },
  {
   "cell_type": "code",
   "execution_count": 17,
   "metadata": {
    "collapsed": false
   },
   "outputs": [
    {
     "data": {
      "text/plain": [
       "['fslclear_2015-07-30',\n",
       " 'irgacure819_2015-06-30',\n",
       " 'martius_05_2015-06-30',\n",
       " 'plasclear_2015-06-27',\n",
       " 'pr48_2015-07-27',\n",
       " 'pr48noA_2015-07-30',\n",
       " 'pr48noPA_2015-07-30',\n",
       " 'sudanI_015_2015-06-27',\n",
       " 'sudanI_01_2015-06-27',\n",
       " 'sudanI_02_2015-06-27',\n",
       " 'sudanI_04_2015-06-27']"
      ]
     },
     "execution_count": 17,
     "metadata": {},
     "output_type": "execute_result"
    }
   ],
   "source": [
    "list_of_materials = get_list_of_materials(raw_data_directory)\n",
    "list_of_materials"
   ]
  },
  {
   "cell_type": "markdown",
   "metadata": {},
   "source": [
    "### Read raw data, process, and save for each material"
   ]
  },
  {
   "cell_type": "code",
   "execution_count": 33,
   "metadata": {
    "collapsed": false
   },
   "outputs": [
    {
     "name": "stdout",
     "output_type": "stream",
     "text": [
      "raw_data/fslclear_2015-07-30\n",
      "raw_data/irgacure819_2015-06-30\n",
      "raw_data/martius_05_2015-06-30\n",
      "raw_data/plasclear_2015-06-27\n",
      "raw_data/pr48_2015-07-27\n",
      "raw_data/pr48noA_2015-07-30\n",
      "raw_data/pr48noPA_2015-07-30\n",
      "raw_data/sudanI_015_2015-06-27\n",
      "raw_data/sudanI_01_2015-06-27\n",
      "raw_data/sudanI_02_2015-06-27\n",
      "raw_data/sudanI_04_2015-06-27\n"
     ]
    }
   ],
   "source": [
    "for m in list_of_materials:\n",
    "    datadirectory = makename(raw_data_directory, m)\n",
    "    print(datadirectory)\n",
    "    data = process_data_to_get_absorbance(datadirectory, dark_data, \n",
    "                                          info['start_index'], \n",
    "                                          info['end_index'])\n",
    "    temp_name = makename(processed_absorbance_data_directory, m+'.csv')\n",
    "    np.savetxt(temp_name, data, delimiter=',', header=str(info))"
   ]
  },
  {
   "cell_type": "markdown",
   "metadata": {},
   "source": [
    "### Get filenames for processed data"
   ]
  },
  {
   "cell_type": "code",
   "execution_count": 30,
   "metadata": {
    "collapsed": false
   },
   "outputs": [
    {
     "data": {
      "text/plain": [
       "['fslclear_2015-07-30.csv',\n",
       " 'irgacure819_2015-06-30.csv',\n",
       " 'martius_05_2015-06-30.csv',\n",
       " 'plasclear_2015-06-27.csv',\n",
       " 'pr48_2015-07-27.csv',\n",
       " 'pr48noA_2015-07-30.csv',\n",
       " 'pr48noPA_2015-07-30.csv',\n",
       " 'sudanI_015_2015-06-27.csv',\n",
       " 'sudanI_01_2015-06-27.csv',\n",
       " 'sudanI_02_2015-06-27.csv',\n",
       " 'sudanI_04_2015-06-27.csv']"
      ]
     },
     "execution_count": 30,
     "metadata": {},
     "output_type": "execute_result"
    }
   ],
   "source": [
    "temp = get_list_of_materials(processed_absorbance_data_directory)\n",
    "temp"
   ]
  },
  {
   "cell_type": "code",
   "execution_count": 31,
   "metadata": {
    "collapsed": false
   },
   "outputs": [
    {
     "data": {
      "text/plain": [
       "['fslclear', '2015-07-30.csv']"
      ]
     },
     "execution_count": 31,
     "metadata": {},
     "output_type": "execute_result"
    }
   ],
   "source": [
    "temp[0].rsplit('_', 1)"
   ]
  },
  {
   "cell_type": "code",
   "execution_count": 32,
   "metadata": {
    "collapsed": false
   },
   "outputs": [
    {
     "data": {
      "text/plain": [
       "'fslclear'"
      ]
     },
     "execution_count": 32,
     "metadata": {},
     "output_type": "execute_result"
    }
   ],
   "source": [
    "temp[0].rsplit('_', 1)[0]"
   ]
  },
  {
   "cell_type": "code",
   "execution_count": 33,
   "metadata": {
    "collapsed": false
   },
   "outputs": [
    {
     "data": {
      "text/plain": [
       "('fslclear', '_', '2015-07-30.csv')"
      ]
     },
     "execution_count": 33,
     "metadata": {},
     "output_type": "execute_result"
    }
   ],
   "source": [
    "temp[0].rpartition('_',)"
   ]
  },
  {
   "cell_type": "code",
   "execution_count": 29,
   "metadata": {
    "collapsed": false
   },
   "outputs": [
    {
     "name": "stdout",
     "output_type": "stream",
     "text": [
      "fslclear processed_data/fslclear_2015-07-30.csv\n",
      "irgacure819 processed_data/irgacure819_2015-06-30.csv\n",
      "martius_05 processed_data/martius_05_2015-06-30.csv\n",
      "plasclear processed_data/plasclear_2015-06-27.csv\n",
      "pr48 processed_data/pr48_2015-07-27.csv\n",
      "pr48noA processed_data/pr48noA_2015-07-30.csv\n",
      "pr48noPA processed_data/pr48noPA_2015-07-30.csv\n",
      "sudanI_015 processed_data/sudanI_015_2015-06-27.csv\n",
      "sudanI_01 processed_data/sudanI_01_2015-06-27.csv\n",
      "sudanI_02 processed_data/sudanI_02_2015-06-27.csv\n",
      "sudanI_04 processed_data/sudanI_04_2015-06-27.csv\n"
     ]
    }
   ],
   "source": [
    "resins = {}\n",
    "for fn in temp:\n",
    "    tempname = makename(processed_absorbance_data_directory, fn)\n",
    "    r_info, r_data = get_processed_data_from_file(tempname)\n",
    "    key = fn.rsplit('_', 1)[0]\n",
    "    print(key, tempname)\n",
    "    resins[key] = r_data\n",
    "    "
   ]
  },
  {
   "cell_type": "code",
   "execution_count": 27,
   "metadata": {
    "collapsed": false
   },
   "outputs": [
    {
     "data": {
      "text/plain": [
       "dict_keys(['plasclear', 'irgacure819', 'martius_05', 'fslclear', 'pr48', 'sudanI_015', 'sudanI_01', 'sudanI_02', 'pr48noA', 'sudanI_04', 'pr48noPA'])"
      ]
     },
     "execution_count": 27,
     "metadata": {},
     "output_type": "execute_result"
    }
   ],
   "source": [
    "resins.keys()"
   ]
  },
  {
   "cell_type": "code",
   "execution_count": 36,
   "metadata": {
    "collapsed": false
   },
   "outputs": [
    {
     "name": "stdout",
     "output_type": "stream",
     "text": [
      "fslclear\n",
      "irgacure819\n",
      "martius_05\n",
      "plasclear\n",
      "pr48\n",
      "pr48noA\n",
      "pr48noPA\n",
      "sudanI_01\n",
      "sudanI_015\n",
      "sudanI_02\n",
      "sudanI_04\n"
     ]
    }
   ],
   "source": [
    "for key in sorted(resins.keys()):\n",
    "    print(key)"
   ]
  },
  {
   "cell_type": "code",
   "execution_count": 38,
   "metadata": {
    "collapsed": false
   },
   "outputs": [
    {
     "data": {
      "text/plain": [
       "['fslclear',\n",
       " 'irgacure819',\n",
       " 'martius_05',\n",
       " 'plasclear',\n",
       " 'pr48',\n",
       " 'pr48noA',\n",
       " 'pr48noPA',\n",
       " 'sudanI_01',\n",
       " 'sudanI_015',\n",
       " 'sudanI_02',\n",
       " 'sudanI_04']"
      ]
     },
     "execution_count": 38,
     "metadata": {},
     "output_type": "execute_result"
    }
   ],
   "source": [
    "list(sorted(resins.keys()))"
   ]
  },
  {
   "cell_type": "code",
   "execution_count": 28,
   "metadata": {
    "collapsed": false
   },
   "outputs": [
    {
     "data": {
      "text/plain": [
       "[<matplotlib.lines.Line2D at 0x111a7ab38>]"
      ]
     },
     "execution_count": 28,
     "metadata": {},
     "output_type": "execute_result"
    },
    {
     "data": {
      "image/png": "[encoded data removed]",
      "text/plain": [
       "<matplotlib.figure.Figure at 0x111a7aa90>"
      ]
     },
     "metadata": {},
     "output_type": "display_data"
    }
   ],
   "source": [
    "fig, ax = plt.subplots()\n",
    "ax.plot(resins['plasclear'][:,0], resins['plasclear'][:,1])"
   ]
  },
  {
   "cell_type": "code",
   "execution_count": 41,
   "metadata": {
    "collapsed": false
   },
   "outputs": [
    {
     "data": {
      "text/plain": [
       "<matplotlib.legend.Legend at 0x10e6b9320>"
      ]
     },
     "execution_count": 41,
     "metadata": {},
     "output_type": "execute_result"
    },
    {
     "data": {
      "image/png": "[encoded data removed]",
      "text/plain": [
       "<matplotlib.figure.Figure at 0x10e613ef0>"
      ]
     },
     "metadata": {},
     "output_type": "display_data"
    }
   ],
   "source": [
    "keys = list(sorted(resins.keys()))\n",
    "fig, ax = plt.subplots(figsize=(10,8))\n",
    "for key in sorted(resins.keys()):\n",
    "    ax.plot(resins[key][:,0], resins[key][:,1], label=key)\n",
    "ax.set_xlabel('Wavelength (nm)')\n",
    "ax.set_ylabel('Absorbance')\n",
    "ax.legend()"
   ]
  },
  {
   "cell_type": "code",
   "execution_count": null,
   "metadata": {
    "collapsed": true
   },
   "outputs": [],
   "source": []
  },
  {
   "cell_type": "code",
   "execution_count": null,
   "metadata": {
    "collapsed": true
   },
   "outputs": [],
   "source": []
  },
  {
   "cell_type": "code",
   "execution_count": null,
   "metadata": {
    "collapsed": true
   },
   "outputs": [],
   "source": []
  },
  {
   "cell_type": "code",
   "execution_count": null,
   "metadata": {
    "collapsed": true
   },
   "outputs": [],
   "source": []
  }
 ],
 "metadata": {
  "kernelspec": {
   "display_name": "Python [Root]",
   "language": "python",
   "name": "Python [Root]"
  },
  "language_info": {
   "codemirror_mode": {
    "name": "ipython",
    "version": 3
   },
   "file_extension": ".py",
   "mimetype": "text/x-python",
   "name": "python",
   "nbconvert_exporter": "python",
   "pygments_lexer": "ipython3",
   "version": "3.5.2"
  }
 },
 "nbformat": 4,
 "nbformat_minor": 0
}
