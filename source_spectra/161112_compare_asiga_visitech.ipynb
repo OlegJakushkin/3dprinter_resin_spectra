{
 "cells": [
  {
   "cell_type": "markdown",
   "metadata": {},
   "source": [
    "# Imports and function definition"
   ]
  },
  {
   "cell_type": "code",
   "execution_count": 1,
   "metadata": {
    "collapsed": true
   },
   "outputs": [],
   "source": [
    "import numpy as np\n",
    "import matplotlib.pyplot as plt\n",
    "%matplotlib inline\n",
    "import os\n",
    "import ast\n",
    "\n",
    "from spectrum_helper_calcs import *"
   ]
  },
  {
   "cell_type": "code",
   "execution_count": 2,
   "metadata": {
    "collapsed": true
   },
   "outputs": [],
   "source": [
    "def get_processed_data_from_file(path_to_file):\n",
    "    '''\n",
    "    Retrieve processed spectrum data from specified file which can optionally have\n",
    "    one comment line as the first line in the file.\n",
    "    \n",
    "    Arguments:\n",
    "        path_to_file - relative path (including name) to processed data file\n",
    "    \n",
    "    Returns:\n",
    "        header string - None if there is no header string\n",
    "        numpy array with data. Columns are wavelength, spectrum, and (optionally) standard deviation\n",
    "    '''\n",
    "    # Read header line\n",
    "    with open(path_to_file) as f:\n",
    "        line = f.readline()\n",
    "        li=line.strip()\n",
    "        if li.startswith('#'):\n",
    "            header = ast.literal_eval(li[2:])  # strip '# ' and convert to dict\n",
    "        else:\n",
    "            header = None\n",
    "    # Read the rest of the file\n",
    "    data = np.loadtxt(path_to_file, delimiter=',', dtype=float)\n",
    "    return header, data"
   ]
  },
  {
   "cell_type": "markdown",
   "metadata": {},
   "source": [
    "# Read data"
   ]
  },
  {
   "cell_type": "code",
   "execution_count": 3,
   "metadata": {
    "collapsed": false
   },
   "outputs": [],
   "source": [
    "asiga_info, asiga_spectrum = get_processed_data_from_file('asiga_pico_plus_27/processed_data/asiga_2015-06-27.csv')\n",
    "visitech_info, visitech_spectrum = get_processed_data_from_file('visitech_luxbeam_LRS_WQ/processed_data/visitech_2016-07-27.csv')"
   ]
  },
  {
   "cell_type": "markdown",
   "metadata": {},
   "source": [
    "# Comparison spectrum information and plot"
   ]
  },
  {
   "cell_type": "code",
   "execution_count": 15,
   "metadata": {
    "collapsed": false
   },
   "outputs": [
    {
     "name": "stdout",
     "output_type": "stream",
     "text": [
      "                                     Asiga   Visitech\n",
      "             Index of emission peak:  227     195\n",
      "   Wavelength of emission peak (nm):  411.8   386.5\n",
      "Value at emission peak (normalized):    1.0     1.0\n",
      "                          FWHM (nm):   26.8    24.5\n"
     ]
    }
   ],
   "source": [
    "a_peak_Index = find_index_of_max(asiga_spectrum[:,1])\n",
    "a_FWHM_indices = find_FWHM_indices(asiga_spectrum[:,1])\n",
    "a_FWHM_nm = calc_FWHM_nm(asiga_spectrum)\n",
    "v_peak_Index = find_index_of_max(visitech_spectrum[:,1])\n",
    "v_FWHM_indices = find_FWHM_indices(visitech_spectrum[:,1])\n",
    "v_FWHM_nm = calc_FWHM_nm(visitech_spectrum)\n",
    "print('                                     Asiga   Visitech')\n",
    "print('             Index of emission peak:  {:d}     {:d}'.format(a_peak_Index, v_peak_Index))\n",
    "print('   Wavelength of emission peak (nm):  {:5.1f}   {:5.1f}'.format(asiga_spectrum[a_peak_Index,0], visitech_spectrum[v_peak_Index,0]))\n",
    "print('Value at emission peak (normalized):  {:5.1f}   {:5.1f}'.format(asiga_spectrum[a_peak_Index,1], visitech_spectrum[v_peak_Index,1]))\n",
    "print('                          FWHM (nm):  {:5.1f}   {:5.1f}'.format(a_FWHM_nm, v_FWHM_nm))"
   ]
  },
  {
   "cell_type": "code",
   "execution_count": 35,
   "metadata": {
    "collapsed": false
   },
   "outputs": [
    {
     "data": {
      "image/png": "[encoded data removed]",
      "text/plain": [
       "<matplotlib.figure.Figure at 0x115fb6da0>"
      ]
     },
     "metadata": {},
     "output_type": "display_data"
    }
   ],
   "source": [
    "fig, ax = plt.subplots()\n",
    "\n",
    "ax.plot(visitech_spectrum[:,0], visitech_spectrum[:,1], label='Visitech')\n",
    "ax.plot([visitech_spectrum[v_peak_Index,0], visitech_spectrum[v_peak_Index,0]], \n",
    "        [0, visitech_spectrum[v_peak_Index,1]], 'b--')\n",
    "ax.text(0.99*visitech_spectrum[v_peak_Index,0], 1.09, '{:5.1f} nm'.format(visitech_spectrum[v_peak_Index,0]),\n",
    "        verticalalignment='top', horizontalalignment='center',\n",
    "        transform=ax.transData)\n",
    "ax.plot([visitech_spectrum[v_FWHM_indices[0],0], visitech_spectrum[v_FWHM_indices[1],0]], \n",
    "        [visitech_spectrum[v_FWHM_indices[0],1], visitech_spectrum[v_FWHM_indices[1],1]], 'b--')\n",
    "ax.text(visitech_spectrum[v_FWHM_indices[0],0]-0.6*v_FWHM_nm, 0.5, '{:4.1f} nm'.format(v_FWHM_nm),\n",
    "        verticalalignment='center', horizontalalignment='center',\n",
    "        transform=ax.transData)\n",
    "\n",
    "ax.plot(asiga_spectrum[:,0], asiga_spectrum[:,1], label='Asiga')\n",
    "ax.plot([asiga_spectrum[a_peak_Index,0], asiga_spectrum[a_peak_Index,0]], \n",
    "        [0, asiga_spectrum[a_peak_Index,1]], 'g--')\n",
    "ax.text(1.01*asiga_spectrum[a_peak_Index,0], 1.09, '{:5.1f} nm'.format(asiga_spectrum[a_peak_Index,0]),\n",
    "        verticalalignment='top', horizontalalignment='center',\n",
    "        transform=ax.transData)\n",
    "ax.plot([asiga_spectrum[a_FWHM_indices[0],0], asiga_spectrum[a_FWHM_indices[1],0]], \n",
    "        [asiga_spectrum[a_FWHM_indices[1],1], asiga_spectrum[a_FWHM_indices[1],1]], 'g--')\n",
    "ax.text(asiga_spectrum[a_FWHM_indices[1],0]+0.6*a_FWHM_nm, 0.5, '{:4.1f} nm'.format(a_FWHM_nm),\n",
    "        verticalalignment='center', horizontalalignment='center',\n",
    "        transform=ax.transData)\n",
    "\n",
    "ax.legend()\n",
    "ax.set_xlim(300, 500)\n",
    "ax.set_ylim(0, 1.2)\n",
    "ax.set_xlabel('Wavelength (nm)', fontsize='14')\n",
    "ax.set_ylabel('Normalized Power', fontsize='14')\n",
    "ax.set_title('Visitech & Asiga LED Emission Spectra', fontsize='14');\n",
    "#plt.savefig('compare_visitech_asiga_spectra.png')"
   ]
  },
  {
   "cell_type": "code",
   "execution_count": null,
   "metadata": {
    "collapsed": true
   },
   "outputs": [],
   "source": []
  }
 ],
 "metadata": {
  "kernelspec": {
   "display_name": "Python [Root]",
   "language": "python",
   "name": "Python [Root]"
  },
  "language_info": {
   "codemirror_mode": {
    "name": "ipython",
    "version": 3
   },
   "file_extension": ".py",
   "mimetype": "text/x-python",
   "name": "python",
   "nbconvert_exporter": "python",
   "pygments_lexer": "ipython3",
   "version": "3.5.2"
  }
 },
 "nbformat": 4,
 "nbformat_minor": 0
}
