{
 "cells": [
  {
   "cell_type": "markdown",
   "metadata": {},
   "source": [
    "# Imports and initial basic data"
   ]
  },
  {
   "cell_type": "code",
   "execution_count": 1,
   "metadata": {
    "collapsed": true
   },
   "outputs": [],
   "source": [
    "import numpy as np\n",
    "import matplotlib.pyplot as plt\n",
    "%matplotlib inline\n",
    "import os\n",
    "import ast\n",
    "\n",
    "#Import functions from `spectrum_helper_calcs.py`\n",
    "import sys\n",
    "sys.path.insert(0, '../')\n",
    "from spectrum_helper_calcs import *"
   ]
  },
  {
   "cell_type": "code",
   "execution_count": 2,
   "metadata": {
    "collapsed": false
   },
   "outputs": [],
   "source": [
    "raw_data_directory = 'raw_data'\n",
    "processed_dark_data_directory = 'processed_data'\n",
    "processed_data_directory = 'processed_data'\n",
    "\n",
    "start_index = 50\n",
    "end_index = 998\n",
    "\n",
    "integration_time_us = 8000\n",
    "\n",
    "params_for_dark_data = { 'start_index' : start_index,\n",
    "                         'end_index' : end_index,\n",
    "                         'integration_time_us' : integration_time_us\n",
    "                       }"
   ]
  },
  {
   "cell_type": "markdown",
   "metadata": {},
   "source": [
    "# Function definitions"
   ]
  },
  {
   "cell_type": "code",
   "execution_count": 3,
   "metadata": {
    "collapsed": false
   },
   "outputs": [],
   "source": [
    "'''\n",
    "Both dark data files and spectrum data files are assumed to be in the same directory, \n",
    "with all data files ending in `csv`\n",
    "'''\n",
    "\n",
    "def makename(datadirectory,filename):\n",
    "    return os.path.join(datadirectory,filename)\n",
    "\n",
    "def process_and_save_dark_data(raw_data_directory, processed_data_directory, params_for_dark_data):\n",
    "    '''\n",
    "    Calculate average dark data for data files in specified directory and save to csv file.\n",
    "    \n",
    "    Arguments:\n",
    "        raw_data_directory - path to raw data directory\n",
    "        processed_data_directory - path to directory in which to save processed data\n",
    "        params_for_dark_data - dict with start_index, end_index (both mandatory), and any other desired parameters\n",
    "            start_index, end_index - range of data to use\n",
    "    \n",
    "    Returns:\n",
    "        Name and relative path of processed dark data file\n",
    "    '''\n",
    "    result = process_data(raw_data_directory, \n",
    "                          params_for_dark_data['start_index'], \n",
    "                          params_for_dark_data['end_index'], \n",
    "                          'dark')\n",
    "    processed_dark_data_file = 'dark_2016-07-27.csv'\n",
    "    params_for_dark_data['dark_data_file'] = processed_dark_data_file\n",
    "    temp_name = makename(processed_data_directory, processed_dark_data_file)\n",
    "    np.savetxt(temp_name, result, delimiter=',', header=str(params_for_dark_data))\n",
    "    return temp_name\n",
    "\n",
    "def process_data(data_directory, start_index, end_index, data_type):\n",
    "    '''\n",
    "    Calculate average spectrum data for data files in specified directory.\n",
    "    \n",
    "    Arguments:\n",
    "        data_directory - directory in which raw data files reside\n",
    "        start_index, end_index - range of data to use\n",
    "        data_type - process dark data if data_type='dark' or \n",
    "                    spectrum data if data_type='spectrum'\n",
    "    \n",
    "    Returns:\n",
    "        Numpy array with three columns: wavelength, average spectrum, standard deviation\n",
    "    '''\n",
    "    files = get_list_of_data_files(data_directory, data_type)\n",
    "    return read_and_calc_ave_spectral_data(data_directory, files, start_index, end_index)\n",
    "\n",
    "def get_list_of_data_files(datadirectory, datatype):\n",
    "    '''\n",
    "    Get list of raw data files (*.csv) in specified directory with specified type (dark or spectrum).\n",
    "    \n",
    "    Arguments:\n",
    "        data_directory - directory in which raw data files reside\n",
    "        data_type - dark data if data_type='dark' or \n",
    "                    spectrum data if data_type='spectrum'\n",
    "    \n",
    "    Returns:\n",
    "        List of file names\n",
    "    '''\n",
    "    list_of_data_files = []\n",
    "    for f in os.listdir(datadirectory):\n",
    "        if f.endswith('csv'):\n",
    "            if datatype == 'dark':\n",
    "                if f.startswith('dark'):\n",
    "                    list_of_data_files.append(f)\n",
    "            elif datatype == 'spectrum':\n",
    "                if not f.startswith('dark'):\n",
    "                    list_of_data_files.append(f)\n",
    "            else:\n",
    "                raise ValueError('datatype argument must be \"dark\" or \"spectrum\". Instead it is' + datatype)\n",
    "    return list_of_data_files\n",
    "\n",
    "def read_and_calc_ave_spectral_data(datadirectory, filenames, start_index, end_index):\n",
    "    \"\"\"\n",
    "    Read raw data from files in input list and return array with columns for wavelength, ave, std.\n",
    "    Data in files is assumed to be in two columns, the first wavelength and the second spectrometer value\n",
    "    \n",
    "    Returns:\n",
    "        Numpy array with three columns: wavelength, average spectrum, standard deviation\n",
    "    \"\"\"\n",
    "    num_pnts_in_spectrum, num_data_files = (end_index-start_index), len(filenames)\n",
    "    data_all = np.zeros(shape=(num_pnts_in_spectrum, num_data_files))\n",
    "    for i, f in enumerate(filenames):\n",
    "        temp_data = np.loadtxt(makename(datadirectory, f), delimiter=',')\n",
    "        data_all[:,i] = temp_data[start_index:end_index, 1]\n",
    "        if i is 0:\n",
    "            wavelengths = temp_data[start_index:end_index, 0]\n",
    "    ave = np.mean(data_all, axis=1)\n",
    "    std = np.std(data_all, axis=1)\n",
    "    return np.array([wavelengths, ave, std]).T\n",
    "\n",
    "def get_processed_data_from_file(path_to_file):\n",
    "    '''\n",
    "    Retrieve processed spectrum data from specified file which can optionally have\n",
    "    one comment line as the first line in the file.\n",
    "    \n",
    "    Arguments:\n",
    "        path_to_file - relative path (including name) to processed data file\n",
    "    \n",
    "    Returns:\n",
    "        header string - None if there is no header string\n",
    "        numpy array with data. Columns are wavelength, spectrum, and (optionally) standard deviation\n",
    "    '''\n",
    "    # Read header line\n",
    "    with open(path_to_file) as f:\n",
    "        line = f.readline()\n",
    "        li=line.strip()\n",
    "        if li.startswith('#'):\n",
    "            header = ast.literal_eval(li[2:])  # strip '# ' and convert to dict\n",
    "        else:\n",
    "            header = None\n",
    "    # Read the rest of the file\n",
    "    data = np.loadtxt(path_to_file, delimiter=',', dtype=float)\n",
    "    return header, data\n",
    "\n",
    "def process_and_save_spectrum_data(raw_data_directory, processed_data_directory, dark_data_file_name):\n",
    "    '''\n",
    "    Calculate average dark-corrected spectrum for data files in specified directory and save to csv file.\n",
    "    \n",
    "    Arguments:\n",
    "        raw_data_directory - path to raw data directory\n",
    "        processed_data_directory - path to directory in which to save processed data\n",
    "        dark_data_file_name - file (including path) containing average dark data\n",
    "    \n",
    "    Returns:\n",
    "        Name and relative path of processed spectrum data file\n",
    "    '''\n",
    "    ave_raw = process_data(raw_data_directory, \n",
    "                           params_for_dark_data['start_index'], \n",
    "                           params_for_dark_data['end_index'], \n",
    "                           'spectrum')\n",
    "    dark_info, dark_data = get_processed_data_from_file(dark_data_file_name)\n",
    "    ave_raw[:,1] -= dark_data[:,1]  # subtract dark data\n",
    "    dark_info['max_value'] = np.max(ave_raw[:,1])\n",
    "    ave_raw[:,1] /= dark_info['max_value']  # Normalize\n",
    "    processed_spectrum_data_file = 'visitech_2016-07-27.csv'\n",
    "    temp_name = makename(processed_data_directory, processed_spectrum_data_file)\n",
    "    np.savetxt(temp_name, ave_raw, delimiter=',', header=str(params_for_dark_data))\n",
    "    return temp_name"
   ]
  },
  {
   "cell_type": "markdown",
   "metadata": {},
   "source": [
    "# Process dark data files"
   ]
  },
  {
   "cell_type": "code",
   "execution_count": 4,
   "metadata": {
    "collapsed": false
   },
   "outputs": [
    {
     "data": {
      "text/plain": [
       "['dark (1).csv',\n",
       " 'dark (10).csv',\n",
       " 'dark (11).csv',\n",
       " 'dark (12).csv',\n",
       " 'dark (13).csv',\n",
       " 'dark (14).csv',\n",
       " 'dark (15).csv',\n",
       " 'dark (16).csv',\n",
       " 'dark (17).csv',\n",
       " 'dark (18).csv',\n",
       " 'dark (19).csv',\n",
       " 'dark (2).csv',\n",
       " 'dark (20).csv',\n",
       " 'dark (3).csv',\n",
       " 'dark (4).csv',\n",
       " 'dark (5).csv',\n",
       " 'dark (6).csv',\n",
       " 'dark (7).csv',\n",
       " 'dark (8).csv',\n",
       " 'dark (9).csv']"
      ]
     },
     "execution_count": 4,
     "metadata": {},
     "output_type": "execute_result"
    }
   ],
   "source": [
    "get_list_of_data_files(raw_data_directory, 'dark')"
   ]
  },
  {
   "cell_type": "code",
   "execution_count": 5,
   "metadata": {
    "collapsed": false
   },
   "outputs": [
    {
     "name": "stdout",
     "output_type": "stream",
     "text": [
      "processed_data/dark_2016-07-27.csv\n"
     ]
    }
   ],
   "source": [
    "# Process dark data and save to file\n",
    "dark_data_file_name = process_and_save_dark_data(raw_data_directory, \n",
    "                                                 processed_dark_data_directory, params_for_dark_data)\n",
    "print(dark_data_file_name)"
   ]
  },
  {
   "cell_type": "markdown",
   "metadata": {},
   "source": [
    "# Process raw spectrum data files"
   ]
  },
  {
   "cell_type": "code",
   "execution_count": 6,
   "metadata": {
    "collapsed": false
   },
   "outputs": [
    {
     "data": {
      "text/plain": [
       "['light_engine_spectra_1.csv',\n",
       " 'light_engine_spectra_10.csv',\n",
       " 'light_engine_spectra_11.csv',\n",
       " 'light_engine_spectra_12.csv',\n",
       " 'light_engine_spectra_13.csv',\n",
       " 'light_engine_spectra_14.csv',\n",
       " 'light_engine_spectra_15.csv',\n",
       " 'light_engine_spectra_16.csv',\n",
       " 'light_engine_spectra_17.csv',\n",
       " 'light_engine_spectra_18.csv',\n",
       " 'light_engine_spectra_19.csv',\n",
       " 'light_engine_spectra_2.csv',\n",
       " 'light_engine_spectra_20.csv',\n",
       " 'light_engine_spectra_3.csv',\n",
       " 'light_engine_spectra_4.csv',\n",
       " 'light_engine_spectra_5.csv',\n",
       " 'light_engine_spectra_6.csv',\n",
       " 'light_engine_spectra_7.csv',\n",
       " 'light_engine_spectra_8.csv',\n",
       " 'light_engine_spectra_9.csv']"
      ]
     },
     "execution_count": 6,
     "metadata": {},
     "output_type": "execute_result"
    }
   ],
   "source": [
    "get_list_of_data_files(raw_data_directory, 'spectrum')"
   ]
  },
  {
   "cell_type": "code",
   "execution_count": 7,
   "metadata": {
    "collapsed": false
   },
   "outputs": [
    {
     "name": "stdout",
     "output_type": "stream",
     "text": [
      "processed_data/visitech_2016-07-27.csv\n"
     ]
    }
   ],
   "source": [
    "# Process raw spectrum data and save to file\n",
    "spectrum_data_file_name = process_and_save_spectrum_data(raw_data_directory, \n",
    "                                                         processed_data_directory, \n",
    "                                                         dark_data_file_name)\n",
    "print(spectrum_data_file_name)"
   ]
  },
  {
   "cell_type": "markdown",
   "metadata": {},
   "source": [
    "# Analyze and plot spectrum"
   ]
  },
  {
   "cell_type": "code",
   "execution_count": 9,
   "metadata": {
    "collapsed": true
   },
   "outputs": [],
   "source": [
    "# Load data\n",
    "dark_info, dark_data = get_processed_data_from_file(dark_data_file_name)\n",
    "spectrum_info, spectrum_data = get_processed_data_from_file(spectrum_data_file_name)"
   ]
  },
  {
   "cell_type": "code",
   "execution_count": 10,
   "metadata": {
    "collapsed": false
   },
   "outputs": [
    {
     "name": "stdout",
     "output_type": "stream",
     "text": [
      "             Index of emission peak: 195\n",
      "        Wavelength of emission peak: 386.514347288\n",
      "Value at emission peak (normalized): 1.0\n",
      "                          FWHM (nm): 24.4929064211\n",
      "              Integration time (us): 8000\n"
     ]
    }
   ],
   "source": [
    "peak_Index = find_index_of_max(spectrum_data[:,1])\n",
    "FWHM_indices = find_FWHM_indices(spectrum_data[:,1])\n",
    "FWHM_nm = calc_FWHM_nm(spectrum_data)\n",
    "print('             Index of emission peak:', peak_Index)\n",
    "print('        Wavelength of emission peak:', spectrum_data[peak_Index,0])\n",
    "print('Value at emission peak (normalized):', spectrum_data[peak_Index,1])\n",
    "print('                          FWHM (nm):', FWHM_nm)\n",
    "print('              Integration time (us):', spectrum_info['integration_time_us'])"
   ]
  },
  {
   "cell_type": "code",
   "execution_count": 12,
   "metadata": {
    "collapsed": false
   },
   "outputs": [
    {
     "data": {
      "image/png": "[encoded data removed]",
      "text/plain": [
       "<matplotlib.figure.Figure at 0x1125eca90>"
      ]
     },
     "metadata": {},
     "output_type": "display_data"
    }
   ],
   "source": [
    "fig, ax = plt.subplots()\n",
    "\n",
    "ax.plot(spectrum_data[:,0], spectrum_data[:,1])\n",
    "ax.plot([spectrum_data[peak_Index,0], spectrum_data[peak_Index,0]], [0, spectrum_data[peak_Index,1]], 'b--')\n",
    "ax.text(spectrum_data[peak_Index,0], 1.09, '{:5.1f} nm'.format(spectrum_data[peak_Index,0]),\n",
    "        verticalalignment='top', horizontalalignment='center',\n",
    "        transform=ax.transData)\n",
    "ax.plot([spectrum_data[FWHM_indices[0],0], spectrum_data[FWHM_indices[1],0]], \n",
    "        [spectrum_data[FWHM_indices[0],1], spectrum_data[FWHM_indices[1],1]], 'b--')\n",
    "ax.text(spectrum_data[FWHM_indices[0],0]-0.6*FWHM_nm, 0.5, '{:4.1f} nm'.format(FWHM_nm),\n",
    "        verticalalignment='center', horizontalalignment='center',\n",
    "        transform=ax.transData)\n",
    "\n",
    "ax.set_xlim(300, 500)\n",
    "ax.set_ylim(0, 1.2)\n",
    "ax.set_xlabel('Wavelength (nm)', fontsize='14')\n",
    "ax.set_ylabel('Intensity', fontsize='14')\n",
    "ax.set_title('Visitech LED Emission Spectrum', fontsize='14')\n",
    "#plt.savefig('visitech_spectrum.png')"
   ]
  },
  {
   "cell_type": "code",
   "execution_count": null,
   "metadata": {
    "collapsed": true
   },
   "outputs": [],
   "source": []
  }
 ],
 "metadata": {
  "kernelspec": {
   "display_name": "Python [Root]",
   "language": "python",
   "name": "Python [Root]"
  },
  "language_info": {
   "codemirror_mode": {
    "name": "ipython",
    "version": 3
   },
   "file_extension": ".py",
   "mimetype": "text/x-python",
   "name": "python",
   "nbconvert_exporter": "python",
   "pygments_lexer": "ipython3",
   "version": "3.5.2"
  }
 },
 "nbformat": 4,
 "nbformat_minor": 0
}
