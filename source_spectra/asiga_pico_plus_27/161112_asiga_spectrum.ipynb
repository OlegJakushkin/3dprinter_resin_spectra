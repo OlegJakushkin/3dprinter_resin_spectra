{
 "cells": [
  {
   "cell_type": "markdown",
   "metadata": {},
   "source": [
    "# Imports and initial basic data"
   ]
  },
  {
   "cell_type": "code",
   "execution_count": 1,
   "metadata": {
    "collapsed": true
   },
   "outputs": [],
   "source": [
    "import numpy as np\n",
    "import matplotlib.pyplot as plt\n",
    "%matplotlib inline\n",
    "import os\n",
    "import ast\n",
    "\n",
    "#Import functions from `spectrum_helper_calcs.py`\n",
    "import sys\n",
    "sys.path.insert(0, '../')\n",
    "from spectrum_helper_calcs import *"
   ]
  },
  {
   "cell_type": "code",
   "execution_count": 2,
   "metadata": {
    "collapsed": true
   },
   "outputs": [],
   "source": [
    "raw_data_directory = 'ave_raw_data'\n",
    "processed_dark_data_directory = 'processed_data'\n",
    "processed_data_directory = 'processed_data'\n",
    "\n",
    "start_index = 50\n",
    "end_index = 998\n",
    "\n",
    "params_for_dark_data = { 'start_index' : start_index,\n",
    "                         'end_index' : end_index,\n",
    "                       }"
   ]
  },
  {
   "cell_type": "markdown",
   "metadata": {},
   "source": [
    "# Function definitions"
   ]
  },
  {
   "cell_type": "code",
   "execution_count": 3,
   "metadata": {
    "collapsed": true
   },
   "outputs": [],
   "source": [
    "def makename(datadirectory,filename):\n",
    "    return os.path.join(datadirectory,filename)\n",
    "\n",
    "def process_and_save_dark_data(raw_data_directory, processed_data_directory, params_for_dark_data):\n",
    "    '''\n",
    "    Convert average dark data file from two rows to two columns and put in correct directory.\n",
    "    \n",
    "    Arguments:\n",
    "        raw_data_directory - path to raw data directory\n",
    "        processed_data_directory - path to directory in which to save processed data\n",
    "        params_for_dark_data - dict with start_index, end_index (both mandatory), and any other desired parameters\n",
    "            start_index, end_index - range of data to use\n",
    "    \n",
    "    Returns:\n",
    "        Name and relative path of processed dark data file\n",
    "    '''\n",
    "    dark_file = get_list_of_data_files(raw_data_directory, 'dark')[0]\n",
    "    temp_dark = np.loadtxt(makename(raw_data_directory, dark_file), delimiter=',', dtype=float)\n",
    "    start_index = params_for_dark_data['start_index']\n",
    "    end_index = params_for_dark_data['end_index']\n",
    "    ave_dark = np.zeros(shape=(end_index-start_index, 2))\n",
    "    ave_dark[:,0] = temp_dark[0,start_index:end_index]\n",
    "    ave_dark[:,1] = temp_dark[1,start_index:end_index]\n",
    "    processed_dark_data_file = 'dark_2015-06-27.csv'\n",
    "    params_for_dark_data['dark_data_file'] = processed_dark_data_file\n",
    "    temp_name = makename(processed_data_directory, processed_dark_data_file)\n",
    "    np.savetxt(temp_name, ave_dark, delimiter=',', header=str(params_for_dark_data))\n",
    "    return temp_name\n",
    "\n",
    "def process_and_save_spectrum_data(raw_data_directory, processed_data_directory, dark_data_file):\n",
    "    '''\n",
    "    Convert average spectrum data file from two rows to two columns, dark-correct data,\n",
    "    and put in correct directory.\n",
    "    \n",
    "    Arguments:\n",
    "        raw_data_directory - path to raw data directory\n",
    "        processed_data_directory - path to directory in which to save processed data\n",
    "        dark_data_file - dark data file name including path\n",
    "    \n",
    "    Returns:\n",
    "        Name and relative path of processed spectrum data file\n",
    "    '''\n",
    "    dark_info, dark_data = get_processed_data_from_file(dark_data_file)\n",
    "    spectrum_file = get_list_of_data_files(raw_data_directory, 'spectrum')[0]\n",
    "    temp_spectrum = np.loadtxt(makename(raw_data_directory, spectrum_file), delimiter=',', dtype=float)\n",
    "    start_index = dark_info['start_index']\n",
    "    end_index = dark_info['end_index']\n",
    "    ave_spectrum = np.zeros(shape=(end_index-start_index, 2))\n",
    "    ave_spectrum[:,0] = temp_spectrum[0,start_index:end_index]\n",
    "    ave_spectrum[:,1] = temp_spectrum[1,start_index:end_index]\n",
    "    ave_spectrum[:,1] -= dark_data[:,1]\n",
    "    dark_info['max_value'] = np.max(ave_spectrum[:,1])\n",
    "    ave_spectrum[:,1] /= dark_info['max_value']  # Normalize\n",
    "    processed_spectrum_data_file = 'asiga_2015-06-27.csv'\n",
    "    temp_name = makename(processed_data_directory, processed_spectrum_data_file)\n",
    "    np.savetxt(temp_name, ave_spectrum, delimiter=',', header=str(dark_info))\n",
    "    return temp_name\n",
    "\n",
    "def get_list_of_data_files(datadirectory, datatype):\n",
    "    '''\n",
    "    Get list of raw data files (*.csv) in specified directory with specified type (dark or spectrum).\n",
    "    \n",
    "    Arguments:\n",
    "        data_directory - directory in which raw data files reside\n",
    "        data_type - dark data if data_type='dark' or \n",
    "                    spectrum data if data_type='spectrum'\n",
    "    \n",
    "    Returns:\n",
    "        List of file names\n",
    "    '''\n",
    "    list_of_data_files = []\n",
    "    for f in os.listdir(datadirectory):\n",
    "        if f.endswith('csv'):\n",
    "            if datatype == 'dark':\n",
    "                if f.startswith('dark'):\n",
    "                    list_of_data_files.append(f)\n",
    "            elif datatype == 'spectrum':\n",
    "                if not f.startswith('dark'):\n",
    "                    list_of_data_files.append(f)\n",
    "            else:\n",
    "                raise ValueError('datatype argument must be \"dark\" or \"spectrum\". Instead it is' + datatype)\n",
    "    return list_of_data_files\n",
    "\n",
    "def get_processed_data_from_file(path_to_file):\n",
    "    '''\n",
    "    Retrieve processed spectrum data from specified file which can optionally have\n",
    "    one comment line as the first line in the file.\n",
    "    \n",
    "    Arguments:\n",
    "        path_to_file - relative path (including name) to processed data file\n",
    "    \n",
    "    Returns:\n",
    "        header string - None if there is no header string\n",
    "        numpy array with data. Columns are wavelength, spectrum, and (optionally) standard deviation\n",
    "    '''\n",
    "    # Read header line\n",
    "    with open(path_to_file) as f:\n",
    "        line = f.readline()\n",
    "        li=line.strip()\n",
    "        if li.startswith('#'):\n",
    "            header = ast.literal_eval(li[2:])  # strip '# ' and convert to dict\n",
    "        else:\n",
    "            header = None\n",
    "    # Read the rest of the file\n",
    "    data = np.loadtxt(path_to_file, delimiter=',', dtype=float)\n",
    "    return header, data"
   ]
  },
  {
   "cell_type": "markdown",
   "metadata": {},
   "source": [
    "# Process dark data and save to file"
   ]
  },
  {
   "cell_type": "code",
   "execution_count": 4,
   "metadata": {
    "collapsed": false
   },
   "outputs": [
    {
     "name": "stdout",
     "output_type": "stream",
     "text": [
      "processed_data/dark_2015-06-27.csv\n"
     ]
    }
   ],
   "source": [
    "dark_data_file_name = process_and_save_dark_data(raw_data_directory, \n",
    "                                                 processed_dark_data_directory, params_for_dark_data)\n",
    "print(dark_data_file_name)"
   ]
  },
  {
   "cell_type": "markdown",
   "metadata": {},
   "source": [
    "# Process spectrum data and save to file"
   ]
  },
  {
   "cell_type": "code",
   "execution_count": 5,
   "metadata": {
    "collapsed": false
   },
   "outputs": [
    {
     "name": "stdout",
     "output_type": "stream",
     "text": [
      "processed_data/asiga_2015-06-27.csv\n"
     ]
    }
   ],
   "source": [
    "spectrum_data_file_name = process_and_save_spectrum_data(raw_data_directory, \n",
    "                                                         processed_dark_data_directory,\n",
    "                                                         dark_data_file_name)\n",
    "print(spectrum_data_file_name)"
   ]
  },
  {
   "cell_type": "markdown",
   "metadata": {},
   "source": [
    "# Analyze and plot spectrum"
   ]
  },
  {
   "cell_type": "code",
   "execution_count": 6,
   "metadata": {
    "collapsed": true
   },
   "outputs": [],
   "source": [
    "# Load data\n",
    "dark_info, dark_data = get_processed_data_from_file(dark_data_file_name)\n",
    "spectrum_info, spectrum_data = get_processed_data_from_file(spectrum_data_file_name)"
   ]
  },
  {
   "cell_type": "code",
   "execution_count": 7,
   "metadata": {
    "collapsed": false
   },
   "outputs": [
    {
     "name": "stdout",
     "output_type": "stream",
     "text": [
      "             Index of emission peak: 227\n",
      "        Wavelength of emission peak: 411.759144835\n",
      "Value at emission peak (normalized): 1.0\n",
      "                          FWHM (nm): 26.7831967597\n"
     ]
    }
   ],
   "source": [
    "peak_Index = find_index_of_max(spectrum_data[:,1])\n",
    "FWHM_indices = find_FWHM_indices(spectrum_data[:,1])\n",
    "FWHM_nm = calc_FWHM_nm(spectrum_data)\n",
    "print('             Index of emission peak:', peak_Index)\n",
    "print('        Wavelength of emission peak:', spectrum_data[peak_Index,0])\n",
    "print('Value at emission peak (normalized):', spectrum_data[peak_Index,1])\n",
    "print('                          FWHM (nm):', FWHM_nm)"
   ]
  },
  {
   "cell_type": "code",
   "execution_count": 10,
   "metadata": {
    "collapsed": false
   },
   "outputs": [
    {
     "data": {
      "image/png": "[encoded data removed]",
      "text/plain": [
       "<matplotlib.figure.Figure at 0x1146adb00>"
      ]
     },
     "metadata": {},
     "output_type": "display_data"
    }
   ],
   "source": [
    "fig, ax = plt.subplots()\n",
    "\n",
    "ax.plot(spectrum_data[:,0], spectrum_data[:,1])\n",
    "ax.plot([spectrum_data[peak_Index,0], spectrum_data[peak_Index,0]], [0, spectrum_data[peak_Index,1]], 'b--')\n",
    "ax.text(spectrum_data[peak_Index,0], 1.09, '{:5.1f} nm'.format(spectrum_data[peak_Index,0]),\n",
    "        verticalalignment='top', horizontalalignment='center',\n",
    "        transform=ax.transData)\n",
    "ax.plot([spectrum_data[FWHM_indices[0],0], spectrum_data[FWHM_indices[1],0]], \n",
    "        [spectrum_data[FWHM_indices[0],1], spectrum_data[FWHM_indices[0],1]], 'b--')\n",
    "ax.text(spectrum_data[FWHM_indices[0],0]-0.6*FWHM_nm, 0.5, '{:4.1f} nm'.format(FWHM_nm),\n",
    "        verticalalignment='center', horizontalalignment='center',\n",
    "        transform=ax.transData)\n",
    "\n",
    "ax.set_xlim(300, 500)\n",
    "ax.set_ylim(0, 1.2)\n",
    "ax.set_xlabel('Wavelength (nm)', fontsize='14')\n",
    "ax.set_ylabel('Intensity', fontsize='14')\n",
    "ax.set_title('Asiga LED Emission Spectrum', fontsize='14')\n",
    "#plt.savefig('asiga_spectrum.png')"
   ]
  },
  {
   "cell_type": "code",
   "execution_count": null,
   "metadata": {
    "collapsed": true
   },
   "outputs": [],
   "source": []
  }
 ],
 "metadata": {
  "kernelspec": {
   "display_name": "Python [Root]",
   "language": "python",
   "name": "Python [Root]"
  },
  "language_info": {
   "codemirror_mode": {
    "name": "ipython",
    "version": 3
   },
   "file_extension": ".py",
   "mimetype": "text/x-python",
   "name": "python",
   "nbconvert_exporter": "python",
   "pygments_lexer": "ipython3",
   "version": "3.5.2"
  }
 },
 "nbformat": 4,
 "nbformat_minor": 0
}
